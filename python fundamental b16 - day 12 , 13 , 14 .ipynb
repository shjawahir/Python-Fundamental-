{
 "cells": [
  {
   "cell_type": "code",
   "execution_count": 1,
   "metadata": {},
   "outputs": [
    {
     "name": "stdout",
     "output_type": "stream",
     "text": [
      "Bismillah\n"
     ]
    }
   ],
   "source": [
    "print('Bismillah')"
   ]
  },
  {
   "cell_type": "code",
   "execution_count": null,
   "metadata": {},
   "outputs": [],
   "source": [
    "# All Loops"
   ]
  },
  {
   "cell_type": "code",
   "execution_count": 10,
   "metadata": {},
   "outputs": [
    {
     "name": "stdout",
     "output_type": "stream",
     "text": [
      "[1, 2, 3, 4, 5, 6, 7, 8, 9, 10]\n"
     ]
    }
   ],
   "source": [
    "i = [1,2,3,4,5,6,7,8,9,10]\n",
    "print(i)"
   ]
  },
  {
   "cell_type": "code",
   "execution_count": 11,
   "metadata": {},
   "outputs": [
    {
     "name": "stdout",
     "output_type": "stream",
     "text": [
      "1\n",
      "2\n",
      "3\n",
      "4\n",
      "5\n",
      "6\n",
      "7\n",
      "8\n",
      "9\n",
      "10\n"
     ]
    }
   ],
   "source": [
    "for temp in i:\n",
    "    print(temp)"
   ]
  },
  {
   "cell_type": "code",
   "execution_count": 15,
   "metadata": {},
   "outputs": [
    {
     "name": "stdout",
     "output_type": "stream",
     "text": [
      "High\n",
      "High\n",
      "High\n",
      "High\n",
      "High\n",
      "Low\n",
      "Low\n",
      "Low\n",
      "Low\n",
      "Low\n"
     ]
    }
   ],
   "source": [
    "for temp in i:\n",
    "    limit = 5 \n",
    "    if temp <= limit :\n",
    "        print('High')\n",
    "    else :\n",
    "        print('Low')"
   ]
  },
  {
   "cell_type": "code",
   "execution_count": 4,
   "metadata": {},
   "outputs": [
    {
     "name": "stdout",
     "output_type": "stream",
     "text": [
      "allow inside\n",
      "allow inside\n",
      "allow inside\n",
      "allow inside\n",
      "allow inside\n",
      "not_allowed after this\n"
     ]
    }
   ],
   "source": [
    "late_mins = 1\n",
    "allowed_limit = 5\n",
    "while late_mins <= allowed_limit:\n",
    "    print(\"allow inside\")\n",
    "    late_mins+=1\n",
    "print(\"not_allowed after this\")"
   ]
  },
  {
   "cell_type": "code",
   "execution_count": 1,
   "metadata": {},
   "outputs": [
    {
     "name": "stdout",
     "output_type": "stream",
     "text": [
      "Hello How are you\n"
     ]
    }
   ],
   "source": [
    "message = 'Hello '\n",
    "message+= 'How are you'\n",
    "print(message)"
   ]
  },
  {
   "cell_type": "code",
   "execution_count": 6,
   "metadata": {},
   "outputs": [
    {
     "name": "stdout",
     "output_type": "stream",
     "text": [
      "Passkey check & max 3 attempts\n",
      "Enter Your 4 Digit Passkey········\n",
      "\u001b[F\u001b[2KSorry , Wrong Key , Try Again\n",
      "Enter Your 4 Digit Passkey········\n",
      "\u001b[F\u001b[2KWelcome to ICICI\n",
      "Thanks for using our serices\n"
     ]
    }
   ],
   "source": [
    "print('Passkey check & max 3 attempts')\n",
    "\n",
    "import getpass\n",
    "\n",
    "attempt  = 1\n",
    "\n",
    "passkey = ''\n",
    "\n",
    "while attempt <= 3 :\n",
    "    \n",
    "    passkey = getpass.getpass(\"Enter Your 4 Digit Passkey\")\n",
    "    \n",
    "    print(\"\\x1B[F\\x1B[2K\", end=\"\")\n",
    "    \n",
    "    if attempt > 3:\n",
    "        \n",
    "        print(\"Sorry , Your card blocked\")\n",
    "        \n",
    "        break\n",
    "    \n",
    "    elif passkey == '1234' :\n",
    "        \n",
    "        print('Welcome to ICICI')\n",
    "        \n",
    "        break\n",
    "             \n",
    "    else :\n",
    "        \n",
    "        print(\"Sorry , Wrong Key , Try Again\")\n",
    "        \n",
    "        attempt+=1\n",
    "\n",
    "print(\"Thanks for using our serices\")       \n"
   ]
  },
  {
   "cell_type": "code",
   "execution_count": 7,
   "metadata": {},
   "outputs": [],
   "source": [
    "# Functions"
   ]
  },
  {
   "cell_type": "code",
   "execution_count": 28,
   "metadata": {},
   "outputs": [],
   "source": [
    "def greet_user_generic():\n",
    "    \"\"\"function to greet user\"\"\"\n",
    "    print(\"Hello\")"
   ]
  },
  {
   "cell_type": "code",
   "execution_count": 29,
   "metadata": {},
   "outputs": [
    {
     "name": "stdout",
     "output_type": "stream",
     "text": [
      "Hello\n"
     ]
    }
   ],
   "source": [
    "greet_user_generic()"
   ]
  },
  {
   "cell_type": "code",
   "execution_count": 30,
   "metadata": {},
   "outputs": [],
   "source": [
    "def greet_user_specific(name):\n",
    "    \"\"\"Greet User with their Name\"\"\"\n",
    "    print(\"Hello \" +name.title() +\", Welcome back\")\n",
    "    "
   ]
  },
  {
   "cell_type": "code",
   "execution_count": 31,
   "metadata": {},
   "outputs": [
    {
     "name": "stdout",
     "output_type": "stream",
     "text": [
      "Hello Jawa, Welcome back\n"
     ]
    }
   ],
   "source": [
    "greet_user_specific(\"jawa\")"
   ]
  },
  {
   "cell_type": "code",
   "execution_count": 45,
   "metadata": {},
   "outputs": [],
   "source": [
    "def phone(model, brand=\"apple\"):\n",
    "    print(f\"my phone model is {model}\")\n",
    "    print(f\"my phone brand is {brand}\")\n",
    "    "
   ]
  },
  {
   "cell_type": "code",
   "execution_count": 46,
   "metadata": {},
   "outputs": [
    {
     "name": "stdout",
     "output_type": "stream",
     "text": [
      "my phone model is iphone x\n",
      "my phone brand is apple\n"
     ]
    }
   ],
   "source": [
    "phone(\"iphone x\",\"apple\") #positionl argument"
   ]
  },
  {
   "cell_type": "code",
   "execution_count": 47,
   "metadata": {},
   "outputs": [
    {
     "name": "stdout",
     "output_type": "stream",
     "text": [
      "my phone model is apple\n",
      "my phone brand is iphone x\n"
     ]
    }
   ],
   "source": [
    "phone(\"apple\",\"iphone x\") # wrong"
   ]
  },
  {
   "cell_type": "code",
   "execution_count": 48,
   "metadata": {},
   "outputs": [
    {
     "name": "stdout",
     "output_type": "stream",
     "text": [
      "my phone model is iphone x\n",
      "my phone brand is apple\n"
     ]
    }
   ],
   "source": [
    "phone(brand=\"apple\",model=\"iphone x\")#keyword argument"
   ]
  },
  {
   "cell_type": "code",
   "execution_count": 50,
   "metadata": {},
   "outputs": [
    {
     "name": "stdout",
     "output_type": "stream",
     "text": [
      "my phone model is iphone\n",
      "my phone brand is apple\n"
     ]
    }
   ],
   "source": [
    "phone(\"iphone\")"
   ]
  },
  {
   "cell_type": "code",
   "execution_count": 51,
   "metadata": {},
   "outputs": [
    {
     "name": "stdout",
     "output_type": "stream",
     "text": [
      "my phone model is iphone\n",
      "my phone brand is samsung\n"
     ]
    }
   ],
   "source": [
    "phone(\"iphone\",\"samsung\")"
   ]
  },
  {
   "cell_type": "code",
   "execution_count": 52,
   "metadata": {},
   "outputs": [
    {
     "name": "stdout",
     "output_type": "stream",
     "text": [
      "my phone model is iphone X\n",
      "my phone brand is apple\n"
     ]
    }
   ],
   "source": [
    "phone(model=\"iphone X\")#default argument given at end "
   ]
  },
  {
   "cell_type": "code",
   "execution_count": null,
   "metadata": {},
   "outputs": [],
   "source": [
    "# Return Values from Functions"
   ]
  },
  {
   "cell_type": "code",
   "execution_count": 2,
   "metadata": {},
   "outputs": [],
   "source": [
    "def format_name(first,last):\n",
    "    \"\"\"Return first name and last name formatted\"\"\"\n",
    "    print(f\"{first.title()} {last.title()}\")"
   ]
  },
  {
   "cell_type": "code",
   "execution_count": 3,
   "metadata": {},
   "outputs": [
    {
     "name": "stdout",
     "output_type": "stream",
     "text": [
      "Jawahir Sahulhameed\n"
     ]
    }
   ],
   "source": [
    "format_name(\"jawahir\",\"SahulHameed\")"
   ]
  },
  {
   "cell_type": "code",
   "execution_count": 17,
   "metadata": {},
   "outputs": [],
   "source": [
    "def sort(a,b,c):   # Return Values from Functions\n",
    "    \"\"\"order the values by albaphetical order\"\"\"\n",
    "    values = [a,b,c]\n",
    "    type(values)\n",
    "    a = print(sorted(values))\n",
    "    return(a)"
   ]
  },
  {
   "cell_type": "code",
   "execution_count": 18,
   "metadata": {},
   "outputs": [
    {
     "name": "stdout",
     "output_type": "stream",
     "text": [
      "['f', 's', 'x']\n"
     ]
    }
   ],
   "source": [
    "sort('x','f','s') # calling functions using arguments"
   ]
  },
  {
   "cell_type": "code",
   "execution_count": 63,
   "metadata": {},
   "outputs": [],
   "source": [
    "# passing list to a function"
   ]
  },
  {
   "cell_type": "code",
   "execution_count": 64,
   "metadata": {},
   "outputs": [
    {
     "name": "stdout",
     "output_type": "stream",
     "text": [
      "[1, 2, 3, 4, 5, 6, 7, 8, 9]\n"
     ]
    }
   ],
   "source": [
    "list = [1,2,3,4,5,6,7,8,9]\n",
    "print(list)"
   ]
  },
  {
   "cell_type": "code",
   "execution_count": 65,
   "metadata": {},
   "outputs": [],
   "source": [
    "def sqt(a):\n",
    "    ans = a*a\n",
    "    print(ans)"
   ]
  },
  {
   "cell_type": "markdown",
   "metadata": {},
   "source": []
  },
  {
   "cell_type": "code",
   "execution_count": 66,
   "metadata": {},
   "outputs": [
    {
     "name": "stdout",
     "output_type": "stream",
     "text": [
      "49\n"
     ]
    }
   ],
   "source": [
    "sqt(7)"
   ]
  },
  {
   "cell_type": "code",
   "execution_count": 71,
   "metadata": {},
   "outputs": [],
   "source": [
    "def sqt_all(all):\n",
    "    \"\"\"printing Square root of all numbers in list \"\"\"\n",
    "    for temp in all :\n",
    "        ans = temp*temp\n",
    "        print(ans)"
   ]
  },
  {
   "cell_type": "code",
   "execution_count": 72,
   "metadata": {},
   "outputs": [
    {
     "name": "stdout",
     "output_type": "stream",
     "text": [
      "1\n",
      "4\n",
      "9\n",
      "16\n",
      "25\n",
      "36\n",
      "49\n",
      "64\n",
      "81\n"
     ]
    }
   ],
   "source": [
    "sqt_all(list)"
   ]
  },
  {
   "cell_type": "code",
   "execution_count": 73,
   "metadata": {},
   "outputs": [],
   "source": [
    "# Passing Dictionary to a function"
   ]
  },
  {
   "cell_type": "code",
   "execution_count": 103,
   "metadata": {},
   "outputs": [],
   "source": [
    "dic = {'first':\"jawahir\",'last':\"sahulhameed\"}"
   ]
  },
  {
   "cell_type": "code",
   "execution_count": 104,
   "metadata": {},
   "outputs": [
    {
     "name": "stdout",
     "output_type": "stream",
     "text": [
      "Data type of dic is : <class 'dict'>\n"
     ]
    }
   ],
   "source": [
    "print(f\"Data type of dic is : { type(dic)}\")"
   ]
  },
  {
   "cell_type": "code",
   "execution_count": 105,
   "metadata": {},
   "outputs": [],
   "source": [
    "def fullname(dic):\n",
    "    for (a,b) in dic.items():\n",
    "        print(b)"
   ]
  },
  {
   "cell_type": "code",
   "execution_count": 106,
   "metadata": {},
   "outputs": [
    {
     "name": "stdout",
     "output_type": "stream",
     "text": [
      "jawahir\n",
      "sahulhameed\n"
     ]
    }
   ],
   "source": [
    "fullname(dic)"
   ]
  },
  {
   "cell_type": "code",
   "execution_count": null,
   "metadata": {},
   "outputs": [],
   "source": [
    "# Returning  a dictionary "
   ]
  },
  {
   "cell_type": "code",
   "execution_count": 110,
   "metadata": {},
   "outputs": [],
   "source": [
    "def dic(a,b):\n",
    "    a = {'firstname':a,'lastname':b}\n",
    "    print(a)"
   ]
  },
  {
   "cell_type": "code",
   "execution_count": 111,
   "metadata": {},
   "outputs": [
    {
     "name": "stdout",
     "output_type": "stream",
     "text": [
      "{'firstname': 'jawahir', 'lastname': 'Sahulhameed'}\n"
     ]
    }
   ],
   "source": [
    "dic(\"jawahir\",\"Sahulhameed\")"
   ]
  },
  {
   "cell_type": "code",
   "execution_count": null,
   "metadata": {},
   "outputs": [],
   "source": []
  }
 ],
 "metadata": {
  "kernelspec": {
   "display_name": "Python 3",
   "language": "python",
   "name": "python3"
  },
  "language_info": {
   "codemirror_mode": {
    "name": "ipython",
    "version": 3
   },
   "file_extension": ".py",
   "mimetype": "text/x-python",
   "name": "python",
   "nbconvert_exporter": "python",
   "pygments_lexer": "ipython3",
   "version": "3.7.6"
  }
 },
 "nbformat": 4,
 "nbformat_minor": 4
}
