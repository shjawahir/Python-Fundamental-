{
 "cells": [
  {
   "cell_type": "code",
   "execution_count": 6,
   "metadata": {},
   "outputs": [
    {
     "name": "stdout",
     "output_type": "stream",
     "text": [
      "Bismillah\n"
     ]
    }
   ],
   "source": [
    "print('Bismillah')"
   ]
  },
  {
   "cell_type": "code",
   "execution_count": 7,
   "metadata": {},
   "outputs": [
    {
     "ename": "SyntaxError",
     "evalue": "invalid syntax (<ipython-input-7-d3c7ca3aacab>, line 1)",
     "output_type": "error",
     "traceback": [
      "\u001b[0;36m  File \u001b[0;32m\"<ipython-input-7-d3c7ca3aacab>\"\u001b[0;36m, line \u001b[0;32m1\u001b[0m\n\u001b[0;31m    Resturant:\u001b[0m\n\u001b[0m               ^\u001b[0m\n\u001b[0;31mSyntaxError\u001b[0m\u001b[0;31m:\u001b[0m invalid syntax\n"
     ]
    }
   ],
   "source": [
    "Resturant: \n",
    "\n",
    "Make a class called Restaurant.\n",
    "The __init__() method for Restaurant should store two attributes: a restaurant_name and a cuisine_type.\n",
    "Make a method called describe_restaurant() that prints these two pieces of information, \n",
    "and a method called open_restaurant() that prints a message indicating that the restaurant is open.\n",
    "Make an instance called restaurant from your class. \n",
    "Print the two attributes individually, and then call both methods.\n",
    "\n"
   ]
  },
  {
   "cell_type": "code",
   "execution_count": 8,
   "metadata": {},
   "outputs": [],
   "source": [
    "\n",
    "class Restaurent:\n",
    "\n",
    "    def __init__(self,restaurant_name,cuisine_type ):\n",
    "        print(\"Constructor Init Method\")\n",
    "        self.restaurant_name = restaurant_name\n",
    "        self.cuisine_type = cuisine_type\n",
    "\n",
    "    def describe_restaurant(self):\n",
    "        print(f\"Restaurent name : {self.restaurant_name}\")\n",
    "        print(f\"Cuisine Type : {self.cuisine_type}\")\n",
    "        \n",
    "    def open_restaurant(self):\n",
    "        print(f\"Restaurent {self.restaurant_name} is Open Now\")\n",
    "\n",
    "\n",
    "\n"
   ]
  },
  {
   "cell_type": "code",
   "execution_count": 9,
   "metadata": {},
   "outputs": [
    {
     "name": "stdout",
     "output_type": "stream",
     "text": [
      "Constructor Init Method\n"
     ]
    }
   ],
   "source": [
    "obj = Restaurent(\"Arabian Nights\",\"Arabian\")\n"
   ]
  },
  {
   "cell_type": "code",
   "execution_count": 10,
   "metadata": {},
   "outputs": [
    {
     "name": "stdout",
     "output_type": "stream",
     "text": [
      "Restaurent name : Arabian Nights\n",
      "Cuisine Type : Arabian\n",
      "Restaurent Arabian Nights is Open Now\n"
     ]
    }
   ],
   "source": [
    "obj.describe_restaurant()\n",
    "obj.open_restaurant()"
   ]
  },
  {
   "cell_type": "code",
   "execution_count": 11,
   "metadata": {},
   "outputs": [],
   "source": [
    "Restaurent.Ramadhan_sepcial = 'Ifthar'\n",
    "Restaurent.Ifthar_special = 'Haleem'"
   ]
  },
  {
   "cell_type": "code",
   "execution_count": 12,
   "metadata": {},
   "outputs": [
    {
     "name": "stdout",
     "output_type": "stream",
     "text": [
      "Restaurent name : Arabian Nights\n",
      "Cuisine Type : Arabian\n",
      "Ramadhan Month Special Menu : Ifthar\n",
      "Ifthar Special Dish : Haleem\n",
      "Restaurent Arabian Nights is Open Now\n"
     ]
    }
   ],
   "source": [
    "obj.describe_restaurant()\n",
    "local_a = (f\"Ramadhan Month Special Menu : {Restaurent.Ramadhan_sepcial}\")\n",
    "print (local_a) \n",
    "local_b= (f\"Ifthar Special Dish : {Restaurent.Ifthar_special}\")\n",
    "print (local_b)\n",
    "obj.open_restaurant()"
   ]
  },
  {
   "cell_type": "code",
   "execution_count": 13,
   "metadata": {},
   "outputs": [
    {
     "ename": "SyntaxError",
     "evalue": "invalid syntax (<ipython-input-13-3f1c65dadfb8>, line 1)",
     "output_type": "error",
     "traceback": [
      "\u001b[0;36m  File \u001b[0;32m\"<ipython-input-13-3f1c65dadfb8>\"\u001b[0;36m, line \u001b[0;32m1\u001b[0m\n\u001b[0;31m    ----Activity 2\u001b[0m\n\u001b[0m                 ^\u001b[0m\n\u001b[0;31mSyntaxError\u001b[0m\u001b[0;31m:\u001b[0m invalid syntax\n"
     ]
    }
   ],
   "source": [
    "----Activity 2 \n",
    "Ice Cream Stand: \n",
    "\n",
    "An ice cream stand is a specific kind of restaurant.\n",
    "Write a class called IceCreamStand that inherits from the Restaurant class you wrote above. \n",
    "Add an attribute called flavors that stores a list of ice cream flavors. \n",
    "Write a method that displays these flavors. Create an instance of IceCreamStand, and call this method. \n",
    "\n",
    "\n",
    "\n"
   ]
  },
  {
   "cell_type": "code",
   "execution_count": 14,
   "metadata": {},
   "outputs": [],
   "source": [
    "class IceCreamStand(Restaurent):\n",
    "    flavours = ['1.vennila','2.strawberry','3.choclate','4.mango','5.orange']\n",
    "    \n",
    "    def icecreamflavours(self):\n",
    "        flavours = ['1.vennila','2.strawberry','3.choclate','4.mango','5.orange']\n",
    "        print(\"Available Ice Cream Falovours Are : \\n\")\n",
    "        for temp in flavours:\n",
    "            print(temp)\n",
    "            \n",
    "    def icecreamchoice(self):\n",
    "        flavours = ['1.vennila','2.strawberry','3.choclate','4.mango','5.orange']\n",
    "        icecreamchoice = input(\"Choose the ice cream number from above list \\n\")\n",
    "        print(f\"You Choosen Ice Cream is : {flavours[int(icecreamchoice)-1]}\")\n",
    "    \n"
   ]
  },
  {
   "cell_type": "code",
   "execution_count": 15,
   "metadata": {},
   "outputs": [],
   "source": [
    "IceCreamStand.thanks = \"Thanks for Choosing Our Restaurent!\""
   ]
  },
  {
   "cell_type": "code",
   "execution_count": 16,
   "metadata": {},
   "outputs": [
    {
     "name": "stdout",
     "output_type": "stream",
     "text": [
      "Choose Cuisine TypeMughal\n",
      "Choose your RetaurentBuhari\n",
      "Constructor Init Method\n",
      "Available Ice Cream Falovours Are : \n",
      "\n",
      "1.vennila\n",
      "2.strawberry\n",
      "3.choclate\n",
      "4.mango\n",
      "5.orange\n",
      "Choose the ice cream number from above list \n",
      "3\n",
      "You Choosen Ice Cream is : 3.choclate\n"
     ]
    }
   ],
   "source": [
    "Cuisine_type1 = input(\"Choose Cuisine Type\")\n",
    "Restaurent_name1 = input(\"Choose your Retaurent\")\n",
    "\n",
    "a = Restaurent_name1\n",
    "b = Cuisine_type1\n",
    "\n",
    "obj2 = IceCreamStand(a,b)\n",
    "obj2.icecreamflavours()\n",
    "obj2.icecreamchoice()"
   ]
  },
  {
   "cell_type": "code",
   "execution_count": 18,
   "metadata": {},
   "outputs": [
    {
     "name": "stdout",
     "output_type": "stream",
     "text": [
      "Restaurent name : Buhari\n",
      "Cuisine Type : Mughal\n",
      "Ramadhan Month Special Menu : Ifthar\n",
      "Ifthar Special Dish : Haleem\n",
      "Thanks for Choosing Our Restaurent!\n"
     ]
    }
   ],
   "source": [
    "obj2.describe_restaurant()\n",
    "print (local_a) \n",
    "print (local_b)\n",
    "print(IceCreamStand.thanks)\n",
    "\n"
   ]
  },
  {
   "cell_type": "code",
   "execution_count": null,
   "metadata": {},
   "outputs": [],
   "source": []
  },
  {
   "cell_type": "code",
   "execution_count": null,
   "metadata": {},
   "outputs": [],
   "source": []
  },
  {
   "cell_type": "code",
   "execution_count": null,
   "metadata": {},
   "outputs": [],
   "source": []
  },
  {
   "cell_type": "code",
   "execution_count": null,
   "metadata": {},
   "outputs": [],
   "source": []
  },
  {
   "cell_type": "code",
   "execution_count": null,
   "metadata": {},
   "outputs": [],
   "source": []
  }
 ],
 "metadata": {
  "kernelspec": {
   "display_name": "Python 3",
   "language": "python",
   "name": "python3"
  },
  "language_info": {
   "codemirror_mode": {
    "name": "ipython",
    "version": 3
   },
   "file_extension": ".py",
   "mimetype": "text/x-python",
   "name": "python",
   "nbconvert_exporter": "python",
   "pygments_lexer": "ipython3",
   "version": "3.7.6"
  }
 },
 "nbformat": 4,
 "nbformat_minor": 4
}
