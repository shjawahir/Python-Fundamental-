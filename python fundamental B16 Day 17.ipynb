{
 "cells": [
  {
   "cell_type": "code",
   "execution_count": 23,
   "metadata": {},
   "outputs": [
    {
     "name": "stdout",
     "output_type": "stream",
     "text": [
      "Bismillah\n"
     ]
    }
   ],
   "source": [
    "print('Bismillah')"
   ]
  },
  {
   "cell_type": "code",
   "execution_count": 24,
   "metadata": {},
   "outputs": [],
   "source": [
    "# Day 17 & 18 Inheretence, File Handling and Exceptions"
   ]
  },
  {
   "cell_type": "code",
   "execution_count": 48,
   "metadata": {},
   "outputs": [],
   "source": [
    "class College : \n",
    "    \"\"\"Parent Class\"\"\"\n",
    "    def cname(self):\n",
    "        self.college_name = input('Enter your college name : ')\n",
    "        print(f\"The College Name is : {self.college_name.title()} \\n\")\n",
    "        print(\"----------------------------------------------\")"
   ]
  },
  {
   "cell_type": "code",
   "execution_count": 49,
   "metadata": {},
   "outputs": [],
   "source": [
    "objC = College()"
   ]
  },
  {
   "cell_type": "code",
   "execution_count": null,
   "metadata": {},
   "outputs": [],
   "source": []
  },
  {
   "cell_type": "code",
   "execution_count": 50,
   "metadata": {},
   "outputs": [],
   "source": [
    "class Department : \n",
    "    \"\"\"Parent Class\"\"\"\n",
    "    def dname(self):\n",
    "        self.department_name = input('Enter your department name :')\n",
    "        print(f\"The Department Name is : {self.department_name.upper()} \\n\")\n",
    "        print(\"----------------------------------------------\")"
   ]
  },
  {
   "cell_type": "code",
   "execution_count": 51,
   "metadata": {},
   "outputs": [],
   "source": [
    "objD=Department()"
   ]
  },
  {
   "cell_type": "code",
   "execution_count": null,
   "metadata": {},
   "outputs": [],
   "source": []
  },
  {
   "cell_type": "code",
   "execution_count": 52,
   "metadata": {},
   "outputs": [],
   "source": [
    "class Student(College,Department):\n",
    "    \"\"\"Child Class\"\"\"\n",
    "    def __init__(self):\n",
    "        \"\"\"Constructor\"\"\"\n",
    "        self.welcome = 'Welcome to Student Dashboard'\n",
    "        \n",
    "    def sname(self):\n",
    "        self.student_name = input('Enter Student Name : ')\n",
    "        \n",
    "        print(f\"Student Name is : {self.student_name.title()} \\n\")\n",
    "        \n",
    "        print(f\" Hello {self.student_name}, {self.welcome} \\n\")\n",
    "        print(\"----------------------------------------------\")"
   ]
  },
  {
   "cell_type": "code",
   "execution_count": 53,
   "metadata": {},
   "outputs": [],
   "source": [
    "objS=Student()"
   ]
  },
  {
   "cell_type": "code",
   "execution_count": 54,
   "metadata": {},
   "outputs": [
    {
     "name": "stdout",
     "output_type": "stream",
     "text": [
      "Enter your college name : crescent\n",
      "The College Name is : Crescent \n",
      "\n",
      "----------------------------------------------\n",
      "Enter your department name :eee\n",
      "The Department Name is : EEE \n",
      "\n",
      "----------------------------------------------\n",
      "Enter Student Name : jawa\n",
      "Student Name is : Jawa \n",
      "\n",
      " Hello jawa, Welcome to Student Dashboard \n",
      "\n",
      "----------------------------------------------\n"
     ]
    }
   ],
   "source": [
    "\n",
    "objS.cname()\n",
    "objS.dname()\n",
    "objS.sname()"
   ]
  },
  {
   "cell_type": "code",
   "execution_count": null,
   "metadata": {},
   "outputs": [],
   "source": [
    "# File Handling "
   ]
  },
  {
   "cell_type": "code",
   "execution_count": 61,
   "metadata": {},
   "outputs": [
    {
     "name": "stdout",
     "output_type": "stream",
     "text": [
      "1\n",
      "2\n",
      "3\n",
      "4\n",
      "5\n",
      "\n"
     ]
    }
   ],
   "source": [
    "with open ('file1') as file_object:\n",
    "    \"\"\"Open a file and reading Entire File in single shot\"\"\"\n",
    "    content = file_object.read()\n",
    "    print(content)\n"
   ]
  },
  {
   "cell_type": "code",
   "execution_count": 63,
   "metadata": {},
   "outputs": [
    {
     "name": "stdout",
     "output_type": "stream",
     "text": [
      "1\n",
      "\n",
      "\n",
      "2\n",
      "\n",
      "\n",
      "3\n",
      "\n",
      "\n",
      "4\n",
      "\n",
      "\n",
      "5\n",
      "\n",
      "\n"
     ]
    }
   ],
   "source": [
    "file_name = 'file1'\n",
    "with open(file_name) as file_object:\n",
    "    \"\"\"Open and read file, line by line\"\"\"\n",
    "    for line in file_object:\n",
    "        print(f\"{line}\\n\")"
   ]
  },
  {
   "cell_type": "code",
   "execution_count": null,
   "metadata": {},
   "outputs": [],
   "source": [
    "file_name = 'file1'\n",
    "with open(file_name,'a') as file_object:\n",
    "    \"\"\"Appending to the file \"\"\"\n",
    "    file_object.write('6\\n')\n"
   ]
  },
  {
   "cell_type": "code",
   "execution_count": null,
   "metadata": {},
   "outputs": [],
   "source": [
    "with open ('file1') as file_object:\n",
    "    content = file_object.read()\n",
    "    print(content)"
   ]
  },
  {
   "cell_type": "code",
   "execution_count": null,
   "metadata": {},
   "outputs": [],
   "source": [
    "old_file_name = 'file1'\n",
    "new_file_name = 'file2'\n",
    "with open (old_file_name,'a+') as file_object:\n",
    "    file_object.write(new_file_name)"
   ]
  },
  {
   "cell_type": "code",
   "execution_count": null,
   "metadata": {},
   "outputs": [],
   "source": [
    "with open('file1') as file_object:\n",
    "    content = file_object.read()\n",
    "    print(content)"
   ]
  },
  {
   "cell_type": "code",
   "execution_count": null,
   "metadata": {},
   "outputs": [],
   "source": [
    "file_name = 'file3'\n",
    "with open (file_name , 'w') as file_object:\n",
    "    file_object.write('bismillah')"
   ]
  },
  {
   "cell_type": "code",
   "execution_count": null,
   "metadata": {},
   "outputs": [],
   "source": []
  },
  {
   "cell_type": "code",
   "execution_count": null,
   "metadata": {},
   "outputs": [],
   "source": []
  },
  {
   "cell_type": "code",
   "execution_count": null,
   "metadata": {},
   "outputs": [],
   "source": []
  }
 ],
 "metadata": {
  "kernelspec": {
   "display_name": "Python 3",
   "language": "python",
   "name": "python3"
  },
  "language_info": {
   "codemirror_mode": {
    "name": "ipython",
    "version": 3
   },
   "file_extension": ".py",
   "mimetype": "text/x-python",
   "name": "python",
   "nbconvert_exporter": "python",
   "pygments_lexer": "ipython3",
   "version": "3.7.6"
  }
 },
 "nbformat": 4,
 "nbformat_minor": 4
}
