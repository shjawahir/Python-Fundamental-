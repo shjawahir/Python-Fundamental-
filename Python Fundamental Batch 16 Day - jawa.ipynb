{
 "cells": [
  {
   "cell_type": "code",
   "execution_count": 1,
   "metadata": {},
   "outputs": [
    {
     "name": "stdout",
     "output_type": "stream",
     "text": [
      "Bismillah\n"
     ]
    }
   ],
   "source": [
    "print('Bismillah')"
   ]
  },
  {
   "cell_type": "code",
   "execution_count": 2,
   "metadata": {},
   "outputs": [],
   "source": [
    "# If Loop Condition Validation"
   ]
  },
  {
   "cell_type": "code",
   "execution_count": 3,
   "metadata": {},
   "outputs": [
    {
     "name": "stdout",
     "output_type": "stream",
     "text": [
      "['audi', 'bmw', 'benz', 'volvo', 'ford']\n"
     ]
    }
   ],
   "source": [
    "cars = ['audi','bmw','benz','volvo','ford']\n",
    "print(cars)"
   ]
  },
  {
   "cell_type": "code",
   "execution_count": 26,
   "metadata": {},
   "outputs": [
    {
     "name": "stdout",
     "output_type": "stream",
     "text": [
      "audi\n",
      "BMW\n",
      "benz\n",
      "volvo\n",
      "ford\n"
     ]
    }
   ],
   "source": [
    "for car in cars :\n",
    "    if car == 'bmw':\n",
    "        print(car.upper())\n",
    "    else : \n",
    "        print (car.lower())\n",
    "       \n",
    "        "
   ]
  },
  {
   "cell_type": "code",
   "execution_count": 50,
   "metadata": {},
   "outputs": [
    {
     "name": "stdout",
     "output_type": "stream",
     "text": [
      "actual value : audi\n",
      "updated value : AUDI\n",
      "\n",
      "actual value : bmw\n",
      "original value : bmw \n",
      "\n",
      "actual value : benz\n",
      "updated value :Benz \n",
      "\n",
      "actual value : volvo\n",
      "original value : volvo \n",
      "\n",
      "actual value : ford\n",
      "original value : ford \n",
      "\n"
     ]
    }
   ],
   "source": [
    "for car in cars :\n",
    "    print(\"actual value : \"+ car)\n",
    "    if car == 'audi':\n",
    "        print(\"updated value : \"+car.upper()+\"\\n\")\n",
    "    elif car == 'benz':\n",
    "        print(f\"updated value :\" + car.title() + \" \\n\")\n",
    "    else :\n",
    "        print (f\"original value : {car} \\n\")\n",
    "        "
   ]
  },
  {
   "cell_type": "code",
   "execution_count": null,
   "metadata": {},
   "outputs": [],
   "source": [
    "# User Input"
   ]
  },
  {
   "cell_type": "code",
   "execution_count": 54,
   "metadata": {},
   "outputs": [
    {
     "name": "stdout",
     "output_type": "stream",
     "text": [
      "Enter your Name :jawa\n",
      "Hello jawa Good Day!\n"
     ]
    }
   ],
   "source": [
    "name = input(\"Enter your Name :\")\n",
    "print ('Hello ' + name + ' Good Day!')"
   ]
  },
  {
   "cell_type": "code",
   "execution_count": 63,
   "metadata": {},
   "outputs": [
    {
     "name": "stdout",
     "output_type": "stream",
     "text": [
      "Enter your Age6\n",
      "Full Ticket\n"
     ]
    }
   ],
   "source": [
    "age = input ('Enter your Age')\n",
    "age = int(age)\n",
    "if age < 5 :\n",
    "    print('Half Ticket')\n",
    "else:\n",
    "    print ('Full Ticket')"
   ]
  },
  {
   "cell_type": "code",
   "execution_count": null,
   "metadata": {},
   "outputs": [],
   "source": [
    "# Voting Check"
   ]
  },
  {
   "cell_type": "code",
   "execution_count": null,
   "metadata": {},
   "outputs": [],
   "source": [
    "Nationality = input(\"Enter your nationality\")\n",
    "Nationality  = Nationality.title()\n",
    "if Nationality == 'Indian':\n",
    "    print('You are eligible to vote')\n",
    "else :\n",
    "    print('Sorry , You are not eligible to vote')"
   ]
  },
  {
   "cell_type": "code",
   "execution_count": null,
   "metadata": {},
   "outputs": [],
   "source": []
  },
  {
   "cell_type": "code",
   "execution_count": null,
   "metadata": {},
   "outputs": [],
   "source": []
  }
 ],
 "metadata": {
  "kernelspec": {
   "display_name": "Python 3",
   "language": "python",
   "name": "python3"
  },
  "language_info": {
   "codemirror_mode": {
    "name": "ipython",
    "version": 3
   },
   "file_extension": ".py",
   "mimetype": "text/x-python",
   "name": "python",
   "nbconvert_exporter": "python",
   "pygments_lexer": "ipython3",
   "version": "3.7.6"
  }
 },
 "nbformat": 4,
 "nbformat_minor": 4
}
