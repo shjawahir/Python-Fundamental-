{
 "cells": [
  {
   "cell_type": "code",
   "execution_count": 1,
   "metadata": {},
   "outputs": [
    {
     "name": "stdout",
     "output_type": "stream",
     "text": [
      "Bismillah\n"
     ]
    }
   ],
   "source": [
    "print('Bismillah')"
   ]
  },
  {
   "cell_type": "code",
   "execution_count": null,
   "metadata": {},
   "outputs": [],
   "source": [
    "CLASS --> High Level blue print of a program \n",
    "METHOD --> Function inside CLASS\n",
    "ATTRIBUTE -->Variable inside CLASS\n",
    "OBJECT --> To Access METHODS inside CLASS\n",
    "SELF --> Keyword , Mandotory for METHODS"
   ]
  },
  {
   "cell_type": "code",
   "execution_count": 37,
   "metadata": {},
   "outputs": [],
   "source": [
    "class student : #  Creating a class\n",
    "    \"\"\"Class to get details of student\"\"\"\n",
    "    \n",
    "    def name (self, fname, lname):\n",
    "        print(f\"{fname.title()} {lname.title()}\")\n",
    "  \n",
    "    def department (self , department ) :\n",
    "        self.department = \"EEE\"\n",
    "        return(self.department)\n",
    "        \n",
    "    def college (self, college):\n",
    "        self.college = \"crescent\"\n",
    "        print(self.college.title())"
   ]
  },
  {
   "cell_type": "code",
   "execution_count": 38,
   "metadata": {},
   "outputs": [],
   "source": [
    "obj = student()\n"
   ]
  },
  {
   "cell_type": "code",
   "execution_count": 39,
   "metadata": {},
   "outputs": [
    {
     "data": {
      "text/plain": [
       "'EEE'"
      ]
     },
     "execution_count": 39,
     "metadata": {},
     "output_type": "execute_result"
    }
   ],
   "source": [
    "obj.department(\"EEE\")"
   ]
  },
  {
   "cell_type": "code",
   "execution_count": 40,
   "metadata": {},
   "outputs": [
    {
     "name": "stdout",
     "output_type": "stream",
     "text": [
      "Crescent\n"
     ]
    }
   ],
   "source": [
    "obj.college(\"CRESCENT\")"
   ]
  },
  {
   "cell_type": "code",
   "execution_count": 41,
   "metadata": {},
   "outputs": [
    {
     "name": "stdout",
     "output_type": "stream",
     "text": [
      "Jawahir Sahulhameed\n"
     ]
    }
   ],
   "source": [
    "obj.name(\"jawahir\",\"sahulhameed\")"
   ]
  },
  {
   "cell_type": "code",
   "execution_count": 48,
   "metadata": {},
   "outputs": [],
   "source": [
    "class test:\n",
    "    def score(self):\n",
    "        self.mark = input(\"Enter your Score :\")\n",
    "        print(\"Your Score is \" + self.mark)"
   ]
  },
  {
   "cell_type": "code",
   "execution_count": 49,
   "metadata": {},
   "outputs": [],
   "source": [
    "tst=test()"
   ]
  },
  {
   "cell_type": "code",
   "execution_count": 50,
   "metadata": {},
   "outputs": [
    {
     "name": "stdout",
     "output_type": "stream",
     "text": [
      "Enter your Score :95\n",
      "Your Score is 95\n"
     ]
    }
   ],
   "source": [
    "tst.score()"
   ]
  },
  {
   "cell_type": "code",
   "execution_count": null,
   "metadata": {},
   "outputs": [],
   "source": []
  }
 ],
 "metadata": {
  "kernelspec": {
   "display_name": "Python 3",
   "language": "python",
   "name": "python3"
  },
  "language_info": {
   "codemirror_mode": {
    "name": "ipython",
    "version": 3
   },
   "file_extension": ".py",
   "mimetype": "text/x-python",
   "name": "python",
   "nbconvert_exporter": "python",
   "pygments_lexer": "ipython3",
   "version": "3.7.6"
  }
 },
 "nbformat": 4,
 "nbformat_minor": 4
}
