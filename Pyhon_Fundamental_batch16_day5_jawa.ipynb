{
 "cells": [
  {
   "cell_type": "code",
   "execution_count": 3,
   "metadata": {},
   "outputs": [
    {
     "name": "stdout",
     "output_type": "stream",
     "text": [
      "Bismillah\n"
     ]
    }
   ],
   "source": [
    "print('Bismillah')"
   ]
  },
  {
   "cell_type": "code",
   "execution_count": 9,
   "metadata": {},
   "outputs": [],
   "source": [
    "# /For Loop "
   ]
  },
  {
   "cell_type": "code",
   "execution_count": 11,
   "metadata": {},
   "outputs": [
    {
     "name": "stdout",
     "output_type": "stream",
     "text": [
      "['AUDI', 'BMW', 'BENZ', 'FORD', 'TOYOTO', 'VOLVO']\n"
     ]
    }
   ],
   "source": [
    "cars = ['AUDI','BMW','BENZ','FORD','TOYOTO','VOLVO']\n",
    "print(cars)"
   ]
  },
  {
   "cell_type": "code",
   "execution_count": 13,
   "metadata": {},
   "outputs": [
    {
     "name": "stdout",
     "output_type": "stream",
     "text": [
      "AUDI\n",
      "BMW\n",
      "BENZ\n",
      "FORD\n",
      "TOYOTO\n",
      "VOLVO\n"
     ]
    }
   ],
   "source": [
    "for car in cars:\n",
    "    print(car)"
   ]
  },
  {
   "cell_type": "code",
   "execution_count": 14,
   "metadata": {},
   "outputs": [
    {
     "name": "stdout",
     "output_type": "stream",
     "text": [
      "AUDI\n",
      "BENZ\n",
      "BMW\n",
      "FORD\n",
      "TOYOTO\n",
      "VOLVO\n"
     ]
    }
   ],
   "source": [
    "cars.sort()\n",
    "for car in cars:\n",
    "    print(car)"
   ]
  },
  {
   "cell_type": "code",
   "execution_count": 33,
   "metadata": {},
   "outputs": [
    {
     "name": "stdout",
     "output_type": "stream",
     "text": [
      "AUDI is one of the leading brand,\n",
      "\n",
      "The Brand AUDI has its own special features.\n",
      "\n",
      "\n",
      "BENZ is one of the leading brand,\n",
      "\n",
      "The Brand BENZ has its own special features.\n",
      "\n",
      "\n",
      "BMW is one of the leading brand,\n",
      "\n",
      "The Brand BMW has its own special features.\n",
      "\n",
      "\n",
      "FORD is one of the leading brand,\n",
      "\n",
      "The Brand FORD has its own special features.\n",
      "\n",
      "\n",
      "TOYOTO is one of the leading brand,\n",
      "\n",
      "The Brand TOYOTO has its own special features.\n",
      "\n",
      "\n",
      "VOLVO is one of the leading brand,\n",
      "\n",
      "The Brand VOLVO has its own special features.\n",
      "\n",
      "\n",
      "my personal favourite is BMW, Beacause of It Stylish BMW look\n"
     ]
    }
   ],
   "source": [
    "for car in cars:\n",
    "    print(f\"{car} is one of the leading brand,\\n\")\n",
    "    print(\"The Brand\"+f\" {car} has its own special features\"+ \".\\n\\n\")\n",
    "print(\"my personal favourite is \" + cars[2] + f\", Beacause of It Stylish {cars[2]} look\")"
   ]
  },
  {
   "cell_type": "code",
   "execution_count": null,
   "metadata": {},
   "outputs": [],
   "source": [
    "# /Numeric Listing"
   ]
  },
  {
   "cell_type": "code",
   "execution_count": 36,
   "metadata": {},
   "outputs": [
    {
     "name": "stdout",
     "output_type": "stream",
     "text": [
      "[1, 2, 3, 4]\n",
      "<class 'list'>\n"
     ]
    }
   ],
   "source": [
    "numlist = list(range(1,5))\n",
    "print(numlist)\n",
    "print(list)"
   ]
  },
  {
   "cell_type": "code",
   "execution_count": 39,
   "metadata": {},
   "outputs": [
    {
     "name": "stdout",
     "output_type": "stream",
     "text": [
      "[1, 3, 5, 7, 9]\n"
     ]
    }
   ],
   "source": [
    "oddno = list (range(1,10,2))\n",
    "print(oddno)"
   ]
  },
  {
   "cell_type": "code",
   "execution_count": 41,
   "metadata": {},
   "outputs": [
    {
     "name": "stdout",
     "output_type": "stream",
     "text": [
      "[2, 4, 6, 8, 10, 12, 14, 16, 18]\n"
     ]
    }
   ],
   "source": [
    "evenno = list(range(2,20,2))\n",
    "print(evenno)"
   ]
  },
  {
   "cell_type": "code",
   "execution_count": 49,
   "metadata": {},
   "outputs": [
    {
     "name": "stdout",
     "output_type": "stream",
     "text": [
      "[10, 15, 20, 25, 30, 35, 40, 45, 50, 55, 60, 65, 70, 75, 80, 85, 90, 95]\n",
      "10\n",
      "15\n",
      "20\n",
      "25\n",
      "30\n",
      "35\n",
      "40\n",
      "45\n",
      "50\n",
      "55\n",
      "60\n",
      "65\n",
      "70\n",
      "75\n",
      "80\n",
      "85\n",
      "90\n",
      "95\n"
     ]
    }
   ],
   "source": [
    "nums = list (range(10,100,5))\n",
    "print (nums)\n",
    "for num in nums:\n",
    "    print(num)"
   ]
  },
  {
   "cell_type": "code",
   "execution_count": 53,
   "metadata": {},
   "outputs": [
    {
     "name": "stdout",
     "output_type": "stream",
     "text": [
      "[1, 2, 3, 4, 5, 6, 7, 8, 9, 10]\n",
      "1\n",
      "2\n",
      "3\n",
      "4\n",
      "5\n",
      "6\n",
      "7\n",
      "8\n",
      "9\n",
      "10\n"
     ]
    }
   ],
   "source": [
    "fulllist = list(range(1,100))\n",
    "shortlist = fulllist[0:10]\n",
    "print(shortlist)\n",
    "for num in shortlist:\n",
    "    print(num)\n",
    "                "
   ]
  },
  {
   "cell_type": "code",
   "execution_count": null,
   "metadata": {},
   "outputs": [],
   "source": []
  },
  {
   "cell_type": "code",
   "execution_count": null,
   "metadata": {},
   "outputs": [],
   "source": []
  },
  {
   "cell_type": "code",
   "execution_count": null,
   "metadata": {},
   "outputs": [],
   "source": []
  }
 ],
 "metadata": {
  "kernelspec": {
   "display_name": "Python 3",
   "language": "python",
   "name": "python3"
  },
  "language_info": {
   "codemirror_mode": {
    "name": "ipython",
    "version": 3
   },
   "file_extension": ".py",
   "mimetype": "text/x-python",
   "name": "python",
   "nbconvert_exporter": "python",
   "pygments_lexer": "ipython3",
   "version": "3.7.6"
  }
 },
 "nbformat": 4,
 "nbformat_minor": 4
}
