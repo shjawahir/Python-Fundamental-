{
 "cells": [
  {
   "cell_type": "code",
   "execution_count": 1,
   "metadata": {},
   "outputs": [
    {
     "name": "stdout",
     "output_type": "stream",
     "text": [
      "Bismillah\n"
     ]
    }
   ],
   "source": [
    "print('Bismillah')"
   ]
  },
  {
   "cell_type": "code",
   "execution_count": null,
   "metadata": {},
   "outputs": [],
   "source": [
    "containers "
   ]
  },
  {
   "cell_type": "code",
   "execution_count": 3,
   "metadata": {},
   "outputs": [],
   "source": [
    "class Cars:\n",
    "    def __init__(self,budget):\n",
    "        print('Constuctor Initialization Done')\n",
    "        self.budget=budget\n",
    "        \n",
    "    def brand(self,brand):\n",
    "        self.brand = brand\n",
    "        print(f\"You Choosen Brand is : {self.brand}\") \n",
    "        print(f\"Your Budget is : {self.budget}\")\n",
    "        \n",
    "    def type(self,type):\n",
    "        self.type = type\n",
    "        print(f\"You choosen type is : {self.type.title()}\" )\n",
    "        print(f\"Your Budget is : {self.budget}\")\n",
    "        \n",
    "    \n",
    "        "
   ]
  },
  {
   "cell_type": "code",
   "execution_count": 4,
   "metadata": {},
   "outputs": [
    {
     "name": "stdout",
     "output_type": "stream",
     "text": [
      "Enter your Budget Amount : \n",
      "Constuctor Initialization Done\n"
     ]
    }
   ],
   "source": [
    "budget = input(\"Enter your Budget Amount : \")\n",
    "\n",
    "obj = Cars(budget)"
   ]
  },
  {
   "cell_type": "code",
   "execution_count": 5,
   "metadata": {},
   "outputs": [
    {
     "name": "stdout",
     "output_type": "stream",
     "text": [
      "You Choosen Brand is : BMW\n",
      "Your Budget is : \n"
     ]
    }
   ],
   "source": [
    "obj.brand(\"BMW\")"
   ]
  },
  {
   "cell_type": "code",
   "execution_count": 6,
   "metadata": {},
   "outputs": [
    {
     "name": "stdout",
     "output_type": "stream",
     "text": [
      "You choosen type is : Sedan\n",
      "Your Budget is : \n"
     ]
    }
   ],
   "source": [
    "obj.type(\"sedan\")"
   ]
  },
  {
   "cell_type": "code",
   "execution_count": null,
   "metadata": {},
   "outputs": [],
   "source": []
  },
  {
   "cell_type": "code",
   "execution_count": 36,
   "metadata": {},
   "outputs": [],
   "source": [
    "class Netflix:\n",
    "    \"\"\"constructor\"\"\"\n",
    "    def __init__(self,language):\n",
    "        self.language = language\n",
    "        print(\"Constructor initialization done\")\n",
    "        \n",
    "    def generee(self,generee):\n",
    "        self.generee = generee\n",
    "        print(f\"you choosen language is : {self.language}\")\n",
    "        print(f\"you choosen genere is : {self.generee}\")\n",
    "\n",
    "    \n",
    "    "
   ]
  },
  {
   "cell_type": "code",
   "execution_count": 37,
   "metadata": {},
   "outputs": [
    {
     "name": "stdout",
     "output_type": "stream",
     "text": [
      "Constructor initialization done\n"
     ]
    }
   ],
   "source": [
    "objn = Netflix(\"Tamil\")"
   ]
  },
  {
   "cell_type": "code",
   "execution_count": 38,
   "metadata": {},
   "outputs": [
    {
     "name": "stdout",
     "output_type": "stream",
     "text": [
      "you choosen language is : Tamil\n",
      "you choosen genere is : Thriller\n"
     ]
    }
   ],
   "source": [
    "objn.generee(\"Thriller\")"
   ]
  },
  {
   "cell_type": "code",
   "execution_count": null,
   "metadata": {},
   "outputs": [],
   "source": []
  }
 ],
 "metadata": {
  "kernelspec": {
   "display_name": "Python 3",
   "language": "python",
   "name": "python3"
  },
  "language_info": {
   "codemirror_mode": {
    "name": "ipython",
    "version": 3
   },
   "file_extension": ".py",
   "mimetype": "text/x-python",
   "name": "python",
   "nbconvert_exporter": "python",
   "pygments_lexer": "ipython3",
   "version": "3.7.6"
  }
 },
 "nbformat": 4,
 "nbformat_minor": 4
}
